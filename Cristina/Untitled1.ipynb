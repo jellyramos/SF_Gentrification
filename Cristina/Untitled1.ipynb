{
 "cells": [
  {
   "cell_type": "code",
   "execution_count": 29,
   "metadata": {},
   "outputs": [],
   "source": [
    "import os\n",
    "import csv\n",
    "import pandas as pd\n",
    "import numpy as np\n",
    "import matplotlib.pyplot as plt \n",
    "# This import registers the 3D projection, but is otherwise unused.\n",
    "from mpl_toolkits.mplot3d import Axes3D  # noqa: F401 unused import\n"
   ]
  },
  {
   "cell_type": "code",
   "execution_count": 2,
   "metadata": {},
   "outputs": [],
   "source": [
    "Census_df=pd.read_csv(\"Copy of ACS_17_5YR_S1901_with_ann CENSUS 2017 5 yr span.csv\")"
   ]
  },
  {
   "cell_type": "code",
   "execution_count": 3,
   "metadata": {},
   "outputs": [
    {
     "data": {
      "text/html": [
       "<div>\n",
       "<style scoped>\n",
       "    .dataframe tbody tr th:only-of-type {\n",
       "        vertical-align: middle;\n",
       "    }\n",
       "\n",
       "    .dataframe tbody tr th {\n",
       "        vertical-align: top;\n",
       "    }\n",
       "\n",
       "    .dataframe thead th {\n",
       "        text-align: right;\n",
       "    }\n",
       "</style>\n",
       "<table border=\"1\" class=\"dataframe\">\n",
       "  <thead>\n",
       "    <tr style=\"text-align: right;\">\n",
       "      <th></th>\n",
       "      <th>GEO.id</th>\n",
       "      <th>GEO.id2</th>\n",
       "      <th>GEO.display-label</th>\n",
       "      <th>HC01_EST_VC01</th>\n",
       "      <th>HC01_MOE_VC01</th>\n",
       "      <th>HC02_EST_VC01</th>\n",
       "      <th>HC02_MOE_VC01</th>\n",
       "      <th>HC03_EST_VC01</th>\n",
       "      <th>HC03_MOE_VC01</th>\n",
       "      <th>HC04_EST_VC01</th>\n",
       "      <th>...</th>\n",
       "      <th>HC02_EST_VC20</th>\n",
       "      <th>HC02_MOE_VC20</th>\n",
       "      <th>HC03_EST_VC20</th>\n",
       "      <th>HC03_MOE_VC20</th>\n",
       "      <th>HC04_EST_VC20</th>\n",
       "      <th>HC04_MOE_VC20</th>\n",
       "      <th>Unnamed: 131</th>\n",
       "      <th>Unnamed: 132</th>\n",
       "      <th>Unnamed: 133</th>\n",
       "      <th>Unnamed: 134</th>\n",
       "    </tr>\n",
       "  </thead>\n",
       "  <tbody>\n",
       "    <tr>\n",
       "      <th>0</th>\n",
       "      <td>Id</td>\n",
       "      <td>Id2</td>\n",
       "      <td>Geography</td>\n",
       "      <td>Households; Estimate; Total</td>\n",
       "      <td>Households; Margin of Error; Total</td>\n",
       "      <td>Families; Estimate; Total</td>\n",
       "      <td>Families; Margin of Error; Total</td>\n",
       "      <td>Married-couple families; Estimate; Total</td>\n",
       "      <td>Married-couple families; Margin of Error; Total</td>\n",
       "      <td>Nonfamily households; Estimate; Total</td>\n",
       "      <td>...</td>\n",
       "      <td>Families; Estimate; PERCENT ALLOCATED - Nonfam...</td>\n",
       "      <td>Families; Margin of Error; PERCENT ALLOCATED -...</td>\n",
       "      <td>Married-couple families; Estimate; PERCENT ALL...</td>\n",
       "      <td>Married-couple families; Margin of Error; PERC...</td>\n",
       "      <td>Nonfamily households; Estimate; PERCENT ALLOCA...</td>\n",
       "      <td>Nonfamily households; Margin of Error; PERCENT...</td>\n",
       "      <td>NaN</td>\n",
       "      <td>NaN</td>\n",
       "      <td>NaN</td>\n",
       "      <td>NaN</td>\n",
       "    </tr>\n",
       "    <tr>\n",
       "      <th>1</th>\n",
       "      <td>0400000US06</td>\n",
       "      <td>6</td>\n",
       "      <td>California</td>\n",
       "      <td>12888128</td>\n",
       "      <td>18518</td>\n",
       "      <td>8862523</td>\n",
       "      <td>24004</td>\n",
       "      <td>6381333</td>\n",
       "      <td>31986</td>\n",
       "      <td>4025605</td>\n",
       "      <td>...</td>\n",
       "      <td>(X)</td>\n",
       "      <td>(X)</td>\n",
       "      <td>(X)</td>\n",
       "      <td>(X)</td>\n",
       "      <td>30.4</td>\n",
       "      <td>(X)</td>\n",
       "      <td>NaN</td>\n",
       "      <td>NaN</td>\n",
       "      <td>NaN</td>\n",
       "      <td>NaN</td>\n",
       "    </tr>\n",
       "    <tr>\n",
       "      <th>2</th>\n",
       "      <td>1600000US0667000</td>\n",
       "      <td>667000</td>\n",
       "      <td>San Francisco city, California</td>\n",
       "      <td>358772</td>\n",
       "      <td>1742</td>\n",
       "      <td>168738</td>\n",
       "      <td>1926</td>\n",
       "      <td>126761</td>\n",
       "      <td>1908</td>\n",
       "      <td>190034</td>\n",
       "      <td>...</td>\n",
       "      <td>(X)</td>\n",
       "      <td>(X)</td>\n",
       "      <td>(X)</td>\n",
       "      <td>(X)</td>\n",
       "      <td>28.8</td>\n",
       "      <td>(X)</td>\n",
       "      <td>NaN</td>\n",
       "      <td>NaN</td>\n",
       "      <td>NaN</td>\n",
       "      <td>NaN</td>\n",
       "    </tr>\n",
       "    <tr>\n",
       "      <th>3</th>\n",
       "      <td>8600000US89010</td>\n",
       "      <td>89010</td>\n",
       "      <td>ZCTA5 89010</td>\n",
       "      <td>208</td>\n",
       "      <td>54</td>\n",
       "      <td>122</td>\n",
       "      <td>33</td>\n",
       "      <td>109</td>\n",
       "      <td>31</td>\n",
       "      <td>86</td>\n",
       "      <td>...</td>\n",
       "      <td>(X)</td>\n",
       "      <td>(X)</td>\n",
       "      <td>(X)</td>\n",
       "      <td>(X)</td>\n",
       "      <td>43</td>\n",
       "      <td>(X)</td>\n",
       "      <td>NaN</td>\n",
       "      <td>NaN</td>\n",
       "      <td>NaN</td>\n",
       "      <td>NaN</td>\n",
       "    </tr>\n",
       "    <tr>\n",
       "      <th>4</th>\n",
       "      <td>8600000US89019</td>\n",
       "      <td>89019</td>\n",
       "      <td>ZCTA5 89019</td>\n",
       "      <td>788</td>\n",
       "      <td>203</td>\n",
       "      <td>354</td>\n",
       "      <td>143</td>\n",
       "      <td>211</td>\n",
       "      <td>105</td>\n",
       "      <td>434</td>\n",
       "      <td>...</td>\n",
       "      <td>(X)</td>\n",
       "      <td>(X)</td>\n",
       "      <td>(X)</td>\n",
       "      <td>(X)</td>\n",
       "      <td>28.8</td>\n",
       "      <td>(X)</td>\n",
       "      <td>NaN</td>\n",
       "      <td>NaN</td>\n",
       "      <td>NaN</td>\n",
       "      <td>NaN</td>\n",
       "    </tr>\n",
       "  </tbody>\n",
       "</table>\n",
       "<p>5 rows × 135 columns</p>\n",
       "</div>"
      ],
      "text/plain": [
       "             GEO.id GEO.id2               GEO.display-label  \\\n",
       "0                Id     Id2                       Geography   \n",
       "1       0400000US06       6                      California   \n",
       "2  1600000US0667000  667000  San Francisco city, California   \n",
       "3    8600000US89010   89010                     ZCTA5 89010   \n",
       "4    8600000US89019   89019                     ZCTA5 89019   \n",
       "\n",
       "                 HC01_EST_VC01                       HC01_MOE_VC01  \\\n",
       "0  Households; Estimate; Total  Households; Margin of Error; Total   \n",
       "1                     12888128                               18518   \n",
       "2                       358772                                1742   \n",
       "3                          208                                  54   \n",
       "4                          788                                 203   \n",
       "\n",
       "               HC02_EST_VC01                     HC02_MOE_VC01  \\\n",
       "0  Families; Estimate; Total  Families; Margin of Error; Total   \n",
       "1                    8862523                             24004   \n",
       "2                     168738                              1926   \n",
       "3                        122                                33   \n",
       "4                        354                               143   \n",
       "\n",
       "                              HC03_EST_VC01  \\\n",
       "0  Married-couple families; Estimate; Total   \n",
       "1                                   6381333   \n",
       "2                                    126761   \n",
       "3                                       109   \n",
       "4                                       211   \n",
       "\n",
       "                                     HC03_MOE_VC01  \\\n",
       "0  Married-couple families; Margin of Error; Total   \n",
       "1                                            31986   \n",
       "2                                             1908   \n",
       "3                                               31   \n",
       "4                                              105   \n",
       "\n",
       "                           HC04_EST_VC01  ...  \\\n",
       "0  Nonfamily households; Estimate; Total  ...   \n",
       "1                                4025605  ...   \n",
       "2                                 190034  ...   \n",
       "3                                     86  ...   \n",
       "4                                    434  ...   \n",
       "\n",
       "                                       HC02_EST_VC20  \\\n",
       "0  Families; Estimate; PERCENT ALLOCATED - Nonfam...   \n",
       "1                                                (X)   \n",
       "2                                                (X)   \n",
       "3                                                (X)   \n",
       "4                                                (X)   \n",
       "\n",
       "                                       HC02_MOE_VC20  \\\n",
       "0  Families; Margin of Error; PERCENT ALLOCATED -...   \n",
       "1                                                (X)   \n",
       "2                                                (X)   \n",
       "3                                                (X)   \n",
       "4                                                (X)   \n",
       "\n",
       "                                       HC03_EST_VC20  \\\n",
       "0  Married-couple families; Estimate; PERCENT ALL...   \n",
       "1                                                (X)   \n",
       "2                                                (X)   \n",
       "3                                                (X)   \n",
       "4                                                (X)   \n",
       "\n",
       "                                       HC03_MOE_VC20  \\\n",
       "0  Married-couple families; Margin of Error; PERC...   \n",
       "1                                                (X)   \n",
       "2                                                (X)   \n",
       "3                                                (X)   \n",
       "4                                                (X)   \n",
       "\n",
       "                                       HC04_EST_VC20  \\\n",
       "0  Nonfamily households; Estimate; PERCENT ALLOCA...   \n",
       "1                                               30.4   \n",
       "2                                               28.8   \n",
       "3                                                 43   \n",
       "4                                               28.8   \n",
       "\n",
       "                                       HC04_MOE_VC20 Unnamed: 131  \\\n",
       "0  Nonfamily households; Margin of Error; PERCENT...          NaN   \n",
       "1                                                (X)          NaN   \n",
       "2                                                (X)          NaN   \n",
       "3                                                (X)          NaN   \n",
       "4                                                (X)          NaN   \n",
       "\n",
       "  Unnamed: 132 Unnamed: 133 Unnamed: 134  \n",
       "0          NaN          NaN          NaN  \n",
       "1          NaN          NaN          NaN  \n",
       "2          NaN          NaN          NaN  \n",
       "3          NaN          NaN          NaN  \n",
       "4          NaN          NaN          NaN  \n",
       "\n",
       "[5 rows x 135 columns]"
      ]
     },
     "execution_count": 3,
     "metadata": {},
     "output_type": "execute_result"
    }
   ],
   "source": [
    "Census_df.head()"
   ]
  },
  {
   "cell_type": "code",
   "execution_count": 4,
   "metadata": {
    "scrolled": true
   },
   "outputs": [],
   "source": [
    "Census_df[Census_df['GEO.id2'].isin([\"94110\", \"94115\", \"94109\", \"94107\", \"94112\", \"94117\", \"94111\",\n",
    "                     \"94114\", \"94124\", \"94133\", \"94132\", \"94122\", \"94131\", \"94121\",\n",
    "                     \"94118\", \"94108\", \"94103\", \"94116\", \"94105\", \"94127\", \"94102\"])]\n",
    "\n",
    "Filtered_df=Census_df[Census_df['GEO.id2'].isin([\"94110\", \"94115\", \"94109\", \"94107\", \"94112\", \"94117\", \"94111\",\n",
    "                     \"94114\", \"94124\", \"94133\", \"94132\", \"94122\", \"94131\", \"94121\",\n",
    "                     \"94118\", \"94108\", \"94103\", \"94116\", \"94105\", \"94127\", \"94102\"])]\n",
    "\n",
    "\n",
    "\n",
    "#columns_df=pd.DataFrame(census.df, columns = [\"GEO.id2\", \"HC01_EST_VC13\",\"HC01_EST_VC15\"]"
   ]
  },
  {
   "cell_type": "code",
   "execution_count": 5,
   "metadata": {},
   "outputs": [
    {
     "name": "stdout",
     "output_type": "stream",
     "text": [
      "     GEO.id2 HC01_EST_VC13 HC01_EST_VC15\n",
      "975    94102         33552         71287\n",
      "976    94103         49052        102297\n",
      "978    94105        199364        269416\n",
      "979    94107        143467        181099\n",
      "980    94108         55341         91859\n",
      "981    94109         79979        124727\n",
      "982    94110        109747        150063\n",
      "983    94111         99464        144677\n",
      "984    94112         82692        106249\n",
      "985    94114        143902        200105\n",
      "986    94115        103625        150888\n",
      "987    94116        101746        142434\n",
      "988    94117        132979        176172\n",
      "989    94118        102021        148871\n",
      "990    94121         87001        122610\n",
      "991    94122        102838        133357\n",
      "993    94124         55823         80499\n",
      "994    94127        151094        198229\n",
      "998    94131        119924        161645\n",
      "999    94132         72970         97811\n",
      "1000   94133         66422        117135\n"
     ]
    },
    {
     "data": {
      "text/plain": [
       "GEO.id2          object\n",
       "HC01_EST_VC13    object\n",
       "HC01_EST_VC15    object\n",
       "dtype: object"
      ]
     },
     "execution_count": 5,
     "metadata": {},
     "output_type": "execute_result"
    }
   ],
   "source": [
    "isolated = Filtered_df.loc[:,[\"GEO.id2\",\"HC01_EST_VC13\",\"HC01_EST_VC15\"]]\n",
    "\n",
    "print(isolated)\n",
    "\n",
    "isolated.dtypes"
   ]
  },
  {
   "cell_type": "code",
   "execution_count": 6,
   "metadata": {},
   "outputs": [],
   "source": [
    "isolated = isolated.apply(pd.to_numeric, errors='coerce')\n",
    "\n",
    "#isolated['GEO.id2'] = isolated.GEO.id2.astype(float)\n",
    "\n",
    "#isolated = np.array(isolated, dtype=np.float32)\n",
    "\n",
    "#isolated['GEO.id2'].astype(str).astype(int)\n",
    "# Passed a dictionary to astype() function  \n",
    "#isolated = isolated.astype({\"GEO.id2\":'int64', \"HC01_EST_VC13\":'int64', \"HC01_EST_VC15\": 'int64'}) \n",
    "  \n",
    "# Now print the data type  \n",
    "# of all columns after change \n",
    "#isolated.info() \n",
    "\n",
    "#isolated.astype('int32').dtypes\n"
   ]
  },
  {
   "cell_type": "code",
   "execution_count": 7,
   "metadata": {},
   "outputs": [
    {
     "data": {
      "text/plain": [
       "GEO.id2          int64\n",
       "HC01_EST_VC13    int64\n",
       "HC01_EST_VC15    int64\n",
       "dtype: object"
      ]
     },
     "execution_count": 7,
     "metadata": {},
     "output_type": "execute_result"
    }
   ],
   "source": [
    "isolated.dtypes"
   ]
  },
  {
   "cell_type": "code",
   "execution_count": 8,
   "metadata": {},
   "outputs": [
    {
     "name": "stdout",
     "output_type": "stream",
     "text": [
      "      GEO.id2  HC01_EST_VC13  HC01_EST_VC15\n",
      "978     94105         199364         269416\n",
      "994     94127         151094         198229\n",
      "985     94114         143902         200105\n",
      "979     94107         143467         181099\n",
      "988     94117         132979         176172\n",
      "998     94131         119924         161645\n",
      "982     94110         109747         150063\n",
      "986     94115         103625         150888\n",
      "991     94122         102838         133357\n",
      "989     94118         102021         148871\n",
      "987     94116         101746         142434\n",
      "983     94111          99464         144677\n",
      "990     94121          87001         122610\n",
      "984     94112          82692         106249\n",
      "981     94109          79979         124727\n",
      "999     94132          72970          97811\n",
      "1000    94133          66422         117135\n",
      "993     94124          55823          80499\n",
      "980     94108          55341          91859\n",
      "976     94103          49052         102297\n",
      "975     94102          33552          71287\n"
     ]
    }
   ],
   "source": [
    "max_median= isolated.sort_values(\"HC01_EST_VC13\", ascending=False)\n",
    "print(max_median)\n",
    "\n"
   ]
  },
  {
   "cell_type": "code",
   "execution_count": 9,
   "metadata": {},
   "outputs": [],
   "source": [
    "# Do this one!!"
   ]
  },
  {
   "cell_type": "code",
   "execution_count": 10,
   "metadata": {},
   "outputs": [
    {
     "name": "stdout",
     "output_type": "stream",
     "text": [
      "      GEO.id2  HC01_EST_VC13  HC01_EST_VC15\n",
      "978     94105         199364         269416\n",
      "985     94114         143902         200105\n",
      "994     94127         151094         198229\n",
      "979     94107         143467         181099\n",
      "988     94117         132979         176172\n",
      "998     94131         119924         161645\n",
      "986     94115         103625         150888\n",
      "982     94110         109747         150063\n",
      "989     94118         102021         148871\n",
      "983     94111          99464         144677\n",
      "987     94116         101746         142434\n",
      "991     94122         102838         133357\n",
      "981     94109          79979         124727\n",
      "990     94121          87001         122610\n",
      "1000    94133          66422         117135\n",
      "984     94112          82692         106249\n",
      "976     94103          49052         102297\n",
      "999     94132          72970          97811\n",
      "980     94108          55341          91859\n",
      "993     94124          55823          80499\n",
      "975     94102          33552          71287\n"
     ]
    }
   ],
   "source": [
    "max_mean= isolated.sort_values(\"HC01_EST_VC15\", ascending=False)\n",
    "print(max_mean)"
   ]
  },
  {
   "cell_type": "code",
   "execution_count": 11,
   "metadata": {},
   "outputs": [
    {
     "name": "stdout",
     "output_type": "stream",
     "text": [
      "      GEO.id2  HC01_EST_VC13  HC01_EST_VC15\n",
      "975     94102          33552          71287\n",
      "976     94103          49052         102297\n",
      "980     94108          55341          91859\n",
      "993     94124          55823          80499\n",
      "1000    94133          66422         117135\n",
      "999     94132          72970          97811\n",
      "981     94109          79979         124727\n",
      "984     94112          82692         106249\n",
      "990     94121          87001         122610\n",
      "983     94111          99464         144677\n",
      "987     94116         101746         142434\n",
      "989     94118         102021         148871\n",
      "991     94122         102838         133357\n",
      "986     94115         103625         150888\n",
      "982     94110         109747         150063\n",
      "998     94131         119924         161645\n",
      "988     94117         132979         176172\n",
      "979     94107         143467         181099\n",
      "985     94114         143902         200105\n",
      "994     94127         151094         198229\n",
      "978     94105         199364         269416\n"
     ]
    }
   ],
   "source": [
    "min_median= isolated.sort_values(\"HC01_EST_VC13\", ascending=True)\n",
    "print(min_median)"
   ]
  },
  {
   "cell_type": "code",
   "execution_count": 12,
   "metadata": {},
   "outputs": [
    {
     "name": "stdout",
     "output_type": "stream",
     "text": [
      "      GEO.id2  HC01_EST_VC13  HC01_EST_VC15\n",
      "975     94102          33552          71287\n",
      "993     94124          55823          80499\n",
      "980     94108          55341          91859\n",
      "999     94132          72970          97811\n",
      "976     94103          49052         102297\n",
      "984     94112          82692         106249\n",
      "1000    94133          66422         117135\n",
      "990     94121          87001         122610\n",
      "981     94109          79979         124727\n",
      "991     94122         102838         133357\n",
      "987     94116         101746         142434\n",
      "983     94111          99464         144677\n",
      "989     94118         102021         148871\n",
      "982     94110         109747         150063\n",
      "986     94115         103625         150888\n",
      "998     94131         119924         161645\n",
      "988     94117         132979         176172\n",
      "979     94107         143467         181099\n",
      "994     94127         151094         198229\n",
      "985     94114         143902         200105\n",
      "978     94105         199364         269416\n"
     ]
    }
   ],
   "source": [
    "min_mean= isolated.sort_values(\"HC01_EST_VC15\", ascending=True)\n",
    "print(min_mean)"
   ]
  },
  {
   "cell_type": "code",
   "execution_count": 13,
   "metadata": {},
   "outputs": [
    {
     "name": "stdout",
     "output_type": "stream",
     "text": [
      "      GEO.id2  HC01_EST_VC13  HC01_EST_VC15\n",
      "975     94102          33552          71287\n",
      "976     94103          49052         102297\n",
      "978     94105         199364         269416\n",
      "979     94107         143467         181099\n",
      "980     94108          55341          91859\n",
      "981     94109          79979         124727\n",
      "982     94110         109747         150063\n",
      "983     94111          99464         144677\n",
      "984     94112          82692         106249\n",
      "985     94114         143902         200105\n",
      "986     94115         103625         150888\n",
      "987     94116         101746         142434\n",
      "988     94117         132979         176172\n",
      "989     94118         102021         148871\n",
      "990     94121          87001         122610\n",
      "991     94122         102838         133357\n",
      "993     94124          55823          80499\n",
      "994     94127         151094         198229\n",
      "998     94131         119924         161645\n",
      "999     94132          72970          97811\n",
      "1000    94133          66422         117135\n"
     ]
    }
   ],
   "source": [
    "# sort by zip code\n",
    "\n",
    "zip_c= isolated.sort_values(\"GEO.id2\", ascending=True)\n",
    "print(zip_c)"
   ]
  },
  {
   "cell_type": "code",
   "execution_count": 14,
   "metadata": {},
   "outputs": [],
   "source": [
    "# # start to make a 3d bar plot\n",
    "\n",
    "# fig = plt.figure()\n",
    "# ax1 = fig.add_sublot(111, projection='3d')\n",
    "\n",
    "# xpos=[94102, 94103, 94105, 94107, 94108, 94109, 94110, 94111, 94112, 94114, 94115, 94116, 94117, 94118, 94121, 94122,\n",
    "#       94124, 94127, 94131, 94132, 94133]\n",
    "# ypos=[1,4,7,10,13,16,2,5,8,11,14,17,20,3,6,9,12,15,18,21]\n",
    "# zpos=[0,0,0,0,0,0,0,0,0,0,0,0,0,0,0,0,0,0,0,0,0]\n",
    "\n",
    "# dx= np.ones(1000)\n",
    "# dy= np.ones(1000)\n",
    "# dz = [33552, 49052, 199364, 143467, 55341,79979, 109747, 99464, 82692, 143902, 103625, 101746, 132979, 102021,\n",
    "#      87001, 102838, 55823, 151094, 119924, 72970, 66422]\n",
    "\n",
    "# ax1.bar3d(xpos, ypos, zpos, dx, dy, dz, color='plum')"
   ]
  },
  {
   "cell_type": "code",
   "execution_count": 15,
   "metadata": {},
   "outputs": [
    {
     "data": {
      "image/png": "[encoded data removed]",
      "text/plain": [
       "<Figure size 432x288 with 1 Axes>"
      ]
     },
     "metadata": {
      "needs_background": "light"
     },
     "output_type": "display_data"
    }
   ],
   "source": [
    "#Make a bar chart to show median and mean household income for each zip code\n",
    "labels = ['94102', '94103', '94105', '94107', '94108', '94109', '94110', '94111', '94112', '94114', '94115', '94116', '94117', '94118', '94121', '94122',\n",
    "           '94124', '94127', '94131', '94132', '94133']\n",
    "median_income = [33552, 49052, 199364, 143467, 55341, 79979, 109747, 99464, 82692, 143902, 103625, 101746, 132979, 102021, 87001,\n",
    "                  102838, 55823, 151094, 119924, 72970, 66422]\n",
    "mean_income = [71287, 102297, 269416, 181099, 91859, 124727, 150063, 144677, 106249, 200105, 150888, 142434, 176172, 148871,\n",
    "               122610, 133357, 80499, 198229, 161645, 97811, 117135]\n",
    "\n",
    "x = np.arange(len(labels))  # the label locations\n",
    "width = 0.35  # the width of the bars\n",
    "\n",
    "fig, ax = plt.subplots()\n",
    "rects1 = ax.bar(x - width/2, median_income, width, color= 'darkturquoise', label='Median Household Income')\n",
    "rects2 = ax.bar(x + width/2, mean_income, width,color= 'deeppink', label='Mean Household Income')\n",
    "\n",
    "# Add some text for labels, title and custom x-axis tick labels, etc.\n",
    "ax.set_ylabel('Income')\n",
    "ax.set_title('Median and Mean Household Income Comparisons by Zip Code')\n",
    "ax.set_xticks(x)\n",
    "ax.set_xlabel('Zip Codes')\n",
    "plt.xticks(rotation=60)\n",
    "ax.set_xticklabels(labels)\n",
    "ax.legend()\n",
    "\n",
    "\n",
    "# def autolabel(rects):\n",
    "#     \"\"\"Attach a text label above each bar in *rects*, displaying its height.\"\"\"\n",
    "#     for rect in rects:\n",
    "#         height = rect.get_height()\n",
    "#         ax.annotate('{}'.format(height),\n",
    "#                     xy=(rect.get_x() + rect.get_width() / 2, height),\n",
    "#                     xytext=(0, 3),  # 3 points vertical offset\n",
    "#                     textcoords=\"offset points\",\n",
    "#                     ha='center', va='bottom')\n",
    "\n",
    "\n",
    "# autolabel(rects1)\n",
    "# autolabel(rects2)\n",
    "\n",
    "fig.tight_layout()\n",
    "\n",
    "plt.show()"
   ]
  },
  {
   "cell_type": "code",
   "execution_count": 30,
   "metadata": {},
   "outputs": [
    {
     "data": {
      "image/png": "[encoded data removed]",
      "text/plain": [
       "<Figure size 432x288 with 1 Axes>"
      ]
     },
     "metadata": {
      "needs_background": "light"
     },
     "output_type": "display_data"
    }
   ],
   "source": [
    "# # Make a more specific bar chart showing polarized comparisons \n",
    "# height = [199364, 33552]\n",
    "# bars = ('94105', '94102')\n",
    "# y_pos = np.arange(len(bars))\n",
    "\n",
    "# plt.bar(y_pos, height, color=['mediumspringgreen', 'darkorchid'])\n",
    "# plt.xticks(y_pos, bars)\n",
    "# plt.show()\n",
    "\n"
   ]
  },
  {
   "cell_type": "code",
   "execution_count": 49,
   "metadata": {},
   "outputs": [
    {
     "data": {
      "image/png": "[encoded data removed]",
      "text/plain": [
       "<Figure size 432x288 with 1 Axes>"
      ]
     },
     "metadata": {
      "needs_background": "light"
     },
     "output_type": "display_data"
    }
   ],
   "source": [
    "\n",
    "zipcode=['94105','94102']\n",
    "Calculations=['Median','Mean']\n",
    "pos = np.arange(len(zipcode))\n",
    "Index_Median=[199364, 33552]\n",
    "Index_Mean=[269416, 71287]\n",
    " \n",
    "    \n",
    "plt.bar(pos,Index_Median,color='palegreen',edgecolor='black')\n",
    "plt.bar(pos,Index_Mean,color='lightpink',edgecolor='black',bottom=Index_Median)\n",
    "plt.xticks(pos, zipcode)\n",
    "plt.xlabel('Zip Code', fontsize=16)\n",
    "plt.ylabel('Income Levels', fontsize=16)\n",
    "plt.title('Median and Mean Household Income End Points',fontsize=18)\n",
    "plt.legend(Calculations,loc=1)\n",
    "plt.show()"
   ]
  },
  {
   "cell_type": "code",
   "execution_count": null,
   "metadata": {},
   "outputs": [],
   "source": []
  },
  {
   "cell_type": "code",
   "execution_count": null,
   "metadata": {},
   "outputs": [],
   "source": []
  },
  {
   "cell_type": "code",
   "execution_count": null,
   "metadata": {},
   "outputs": [],
   "source": []
  }
 ],
 "metadata": {
  "kernelspec": {
   "display_name": "Python 3",
   "language": "python",
   "name": "python3"
  },
  "language_info": {
   "codemirror_mode": {
    "name": "ipython",
    "version": 3
   },
   "file_extension": ".py",
   "mimetype": "text/x-python",
   "name": "python",
   "nbconvert_exporter": "python",
   "pygments_lexer": "ipython3",
   "version": "3.7.3"
  }
 },
 "nbformat": 4,
 "nbformat_minor": 2
}
